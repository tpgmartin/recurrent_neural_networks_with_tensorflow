{
 "cells": [
  {
   "cell_type": "code",
   "execution_count": 1,
   "metadata": {
    "collapsed": true
   },
   "outputs": [],
   "source": [
    "import collections\n",
    "import random\n",
    "# import time\n",
    "import numpy as np\n",
    "import tensorflow as tf\n",
    "\n",
    "# want to write logs?"
   ]
  },
  {
   "cell_type": "code",
   "execution_count": 2,
   "metadata": {
    "collapsed": false
   },
   "outputs": [
    {
     "name": "stdout",
     "output_type": "stream",
     "text": [
      "Loaded training data...\n"
     ]
    }
   ],
   "source": [
    "def read_data(file):\n",
    "    with open(file) as f:\n",
    "        content = f.readlines()\n",
    "    content = [x.strip() for x in content]\n",
    "    content = [content[i].split() for i in range(len(content))]\n",
    "    content = np.array(content)\n",
    "    content = np.reshape(content, [-1, ])\n",
    "    return content\n",
    "\n",
    "training_file = 'belling_the_cat.txt'\n",
    "training_data = read_data(training_file)\n",
    "print (\"Loaded training data...\")"
   ]
  },
  {
   "cell_type": "code",
   "execution_count": 3,
   "metadata": {
    "collapsed": false
   },
   "outputs": [],
   "source": [
    "def build_dataset(words):\n",
    "    # return list of words ordered by frequency\n",
    "    count = collections.Counter(words).most_common()\n",
    "    dictionary = {}\n",
    "    # create dictionary word words encoding by dictionary index\n",
    "    for word, _ in count:\n",
    "        dictionary[word] = len(dictionary)\n",
    "    reverse_dictionary = dict((zip(dictionary.values(), dictionary.keys())))\n",
    "    return dictionary, reverse_dictionary\n",
    "\n",
    "dictionary, reverse_dictionary = build_dataset(training_data)\n",
    "vocab_size = len(dictionary)"
   ]
  },
  {
   "cell_type": "code",
   "execution_count": 4,
   "metadata": {
    "collapsed": true
   },
   "outputs": [],
   "source": [
    "# hyperparameters\n",
    "learning_rate = 0.001\n",
    "training_iters = 50000\n",
    "display_step = 1000\n",
    "n_input = 3\n",
    "# number of units in RNN cell\n",
    "# this is the dimensionality of the hidden state and output state\n",
    "n_hidden = 512"
   ]
  },
  {
   "cell_type": "code",
   "execution_count": 5,
   "metadata": {
    "collapsed": true
   },
   "outputs": [],
   "source": [
    "x = tf.placeholder(\"float\", [None, n_input, 1])\n",
    "y = tf.placeholder(\"float\", [None, vocab_size])\n",
    "\n",
    "# why not use get_variable?\n",
    "# do we need dict?\n",
    "weights = {\n",
    "    'out': tf.Variable(tf.random_normal([n_hidden, vocab_size]))\n",
    "}\n",
    "biases = {\n",
    "    'out': tf.Variable(tf.random_normal([vocab_size]))\n",
    "}"
   ]
  },
  {
   "cell_type": "code",
   "execution_count": 6,
   "metadata": {
    "collapsed": false
   },
   "outputs": [],
   "source": [
    "def RNN(x, weights, biases):\n",
    "    \n",
    "    x = tf.reshape(x, [-1, n_input])\n",
    "    x = tf.split(x, n_input, 1)\n",
    "    \n",
    "    # 2-layer LSTM with n_hidden units per layer\n",
    "    # set reuse to true?\n",
    "    rnn_cell = tf.contrib.rnn.MultiRNNCell([tf.contrib.rnn.BasicLSTMCell(n_hidden),tf.contrib.rnn.BasicLSTMCell(n_hidden)])\n",
    "    \n",
    "    # create a RNN specified by cell\n",
    "    outputs, states = tf.contrib.rnn.static_rnn(rnn_cell, x, dtype=tf.float32)\n",
    "    \n",
    "    # only return last word output\n",
    "    return tf.matmul(outputs[-1], weights['out']) + biases['out']\n",
    "\n",
    "pred = RNN(x, weights, biases)"
   ]
  },
  {
   "cell_type": "code",
   "execution_count": 7,
   "metadata": {
    "collapsed": false
   },
   "outputs": [],
   "source": [
    "# Define loss and optimizer\n",
    "# compute the cross entropy of the result after applying the \n",
    "# softmax function\n",
    "cost = tf.reduce_mean(tf.nn.softmax_cross_entropy_with_logits(logits=pred, labels=y))\n",
    "# How does RMS work? Updates learning rate\n",
    "optimizer = tf.train.RMSPropOptimizer(learning_rate=learning_rate).minimize(cost)"
   ]
  },
  {
   "cell_type": "code",
   "execution_count": 8,
   "metadata": {
    "collapsed": true
   },
   "outputs": [],
   "source": [
    "# Evaluate model\n",
    "correct_pred = tf.equal(tf.argmax(pred,1), tf.argmax(y,1))\n",
    "accuracy = tf.reduce_mean(tf.cast(correct_pred, tf.float32))"
   ]
  },
  {
   "cell_type": "code",
   "execution_count": 9,
   "metadata": {
    "collapsed": true
   },
   "outputs": [],
   "source": [
    "# initialise the variables\n",
    "init = tf.global_variables_initializer()"
   ]
  },
  {
   "cell_type": "code",
   "execution_count": 11,
   "metadata": {
    "collapsed": false
   },
   "outputs": [
    {
     "name": "stdout",
     "output_type": "stream",
     "text": [
      "Iter= 1000, Average Loss= 4.365232, Average Accuracy= 2.80%\n",
      "['at', 'one', 'another'] - [and] vs [well]\n",
      "Iter= 2000, Average Loss= 2.694892, Average Accuracy= 28.30%\n",
      "['.', 'this', 'proposal'] - [met] vs [at]\n",
      "Iter= 3000, Average Loss= 2.539779, Average Accuracy= 37.90%\n",
      "['when', 'she', 'was'] - [about] vs [about]\n",
      "Iter= 4000, Average Loss= 1.968727, Average Accuracy= 50.10%\n",
      "['to', 'propose', 'that'] - [a] vs [means]\n",
      "Iter= 5000, Average Loss= 1.947642, Average Accuracy= 54.30%\n",
      "['we', 'could', 'easily'] - [escape] vs [escape]\n",
      "Iter= 6000, Average Loss= 1.752010, Average Accuracy= 58.50%\n",
      "['now', ',', 'if'] - [we] vs [we]\n",
      "Iter= 7000, Average Loss= 1.318949, Average Accuracy= 65.50%\n",
      "['he', 'thought', 'would'] - [meet] vs [know]\n",
      "Iter= 8000, Average Loss= 1.240725, Average Accuracy= 68.20%\n",
      "['that', 'but', 'at'] - [last] vs [last]\n",
      "Iter= 9000, Average Loss= 1.134477, Average Accuracy= 68.50%\n",
      "['common', 'enemy', ','] - [the] vs [the]\n",
      "Iter= 10000, Average Loss= 0.871809, Average Accuracy= 75.80%\n",
      "['nobody', 'spoke', '.'] - [then] vs [nobody]\n",
      "Iter= 11000, Average Loss= 0.888870, Average Accuracy= 76.50%\n",
      "['is', 'to', 'bell'] - [the] vs [the]\n",
      "Iter= 12000, Average Loss= 0.748525, Average Accuracy= 79.90%\n",
      "[',', 'until', 'an'] - [old] vs [old]\n",
      "Iter= 13000, Average Loss= 0.799701, Average Accuracy= 77.30%\n",
      "['was', 'in', 'the'] - [neighbourhood] vs [neighbourhood]\n",
      "Iter= 14000, Average Loss= 0.586570, Average Accuracy= 83.50%\n",
      "['about', ',', 'and'] - [could] vs [could]\n",
      "Iter= 15000, Average Loss= 0.620501, Average Accuracy= 81.90%\n",
      "['a', 'ribbon', 'round'] - [the] vs [the]\n",
      "Iter= 16000, Average Loss= 0.534142, Average Accuracy= 85.30%\n",
      "['from', 'her', '.'] - [i] vs [i]\n",
      "Iter= 17000, Average Loss= 0.448363, Average Accuracy= 87.80%\n",
      "['and', 'treacherous', 'manner'] - [in] vs [in]\n",
      "Iter= 18000, Average Loss= 0.341640, Average Accuracy= 88.80%\n",
      "['you', 'will', 'all'] - [agree] vs [agree]\n",
      "Iter= 19000, Average Loss= 0.458647, Average Accuracy= 88.00%\n",
      "['thought', 'would', 'meet'] - [the] vs [the]\n",
      "Iter= 20000, Average Loss= 0.444731, Average Accuracy= 87.20%\n",
      "['last', 'a', 'young'] - [mouse] vs [mouse]\n",
      "Iter= 21000, Average Loss= 0.279115, Average Accuracy= 91.60%\n",
      "['they', 'could', 'take'] - [to] vs [to]\n",
      "Iter= 22000, Average Loss= 0.367092, Average Accuracy= 89.90%\n",
      "['.', 'then', 'the'] - [old] vs [old]\n",
      "Iter= 23000, Average Loss= 0.300078, Average Accuracy= 92.50%\n",
      "['mice', 'looked', 'at'] - [one] vs [one]\n",
      "Iter= 24000, Average Loss= 0.305877, Average Accuracy= 91.60%\n",
      "['an', 'old', 'mouse'] - [got] vs [got]\n",
      "Iter= 25000, Average Loss= 0.353561, Average Accuracy= 91.50%\n",
      "['with', 'general', 'applause'] - [,] vs [,]\n",
      "Iter= 26000, Average Loss= 0.264131, Average Accuracy= 92.90%\n",
      "['when', 'she', 'was'] - [about] vs [about]\n",
      "Iter= 27000, Average Loss= 0.357742, Average Accuracy= 91.00%\n",
      "['neck', 'of', 'the'] - [cat] vs [cat]\n",
      "Iter= 28000, Average Loss= 0.205016, Average Accuracy= 94.90%\n",
      "['be', 'procured', ','] - [and] vs [and]\n",
      "Iter= 29000, Average Loss= 0.277546, Average Accuracy= 93.30%\n",
      "['venture', ',', 'therefore'] - [,] vs [,]\n",
      "Iter= 30000, Average Loss= 0.256735, Average Accuracy= 93.90%\n",
      "['from', 'her', '.'] - [i] vs [i]\n",
      "Iter= 31000, Average Loss= 0.211203, Average Accuracy= 94.90%\n",
      "[',', 'if', 'we'] - [could] vs [could]\n",
      "Iter= 32000, Average Loss= 0.281715, Average Accuracy= 94.10%\n",
      "['now', ',', 'if'] - [we] vs [we]\n",
      "Iter= 33000, Average Loss= 0.172939, Average Accuracy= 94.60%\n",
      "['the', 'sly', 'and'] - [treacherous] vs [treacherous]\n",
      "Iter= 34000, Average Loss= 0.218763, Average Accuracy= 94.70%\n",
      "['meet', 'the', 'case'] - [.] vs [.]\n",
      "Iter= 35000, Average Loss= 0.331815, Average Accuracy= 92.70%\n",
      "['up', 'and', 'said'] - [he] vs [that]\n",
      "Iter= 36000, Average Loss= 0.230922, Average Accuracy= 93.50%\n",
      "['common', 'enemy', ','] - [the] vs [the]\n",
      "Iter= 37000, Average Loss= 0.224878, Average Accuracy= 94.00%\n",
      "['to', 'propose', 'impossible'] - [remedies] vs [remedies]\n",
      "Iter= 38000, Average Loss= 0.208482, Average Accuracy= 94.10%\n",
      "['nobody', 'spoke', '.'] - [then] vs [then]\n",
      "Iter= 39000, Average Loss= 0.189656, Average Accuracy= 94.80%\n",
      "['an', 'old', 'mouse'] - [got] vs [got]\n",
      "Iter= 40000, Average Loss= 0.172124, Average Accuracy= 95.20%\n",
      "['always', 'know', 'when'] - [she] vs [she]\n",
      "Iter= 41000, Average Loss= 0.183760, Average Accuracy= 95.10%\n",
      "['a', 'ribbon', 'round'] - [the] vs [the]\n",
      "Iter= 42000, Average Loss= 0.214851, Average Accuracy= 95.00%\n",
      "['approach', ',', 'we'] - [could] vs [could]\n",
      "Iter= 43000, Average Loss= 0.222319, Average Accuracy= 94.00%\n",
      "['in', 'which', 'the'] - [enemy] vs [enemy]\n",
      "Iter= 44000, Average Loss= 0.235549, Average Accuracy= 93.80%\n",
      "[',', 'said', 'he'] - [,] vs [,]\n",
      "Iter= 45000, Average Loss= 0.257712, Average Accuracy= 93.70%\n",
      "['he', 'thought', 'would'] - [meet] vs [meet]\n",
      "Iter= 46000, Average Loss= 0.244111, Average Accuracy= 93.40%\n",
      "['a', 'proposal', 'to'] - [make] vs [make]\n",
      "Iter= 47000, Average Loss= 0.211656, Average Accuracy= 94.40%\n",
      "['said', 'this', ','] - [and] vs [and]\n",
      "Iter= 48000, Average Loss= 0.145069, Average Accuracy= 95.30%\n",
      "['what', 'measures', 'they'] - [could] vs [could]\n",
      "Iter= 49000, Average Loss= 0.262638, Average Accuracy= 94.10%\n",
      "['spoke', '.', 'then'] - [the] vs [the]\n",
      "Iter= 50000, Average Loss= 0.215221, Average Accuracy= 94.20%\n",
      "['to', 'bell', 'the'] - [cat] vs [cat]\n"
     ]
    }
   ],
   "source": [
    "# Run session\n",
    "with tf.Session() as sess:\n",
    "    sess.run(init)\n",
    "    step = 0\n",
    "    offset = random.randint(0,n_input+1)\n",
    "    end_offset = n_input + 1\n",
    "    acc_total = 0\n",
    "    loss_total = 0\n",
    "    \n",
    "    while step < training_iters:\n",
    "        # Generate a minibatch\n",
    "        if offset > (len(training_data)-end_offset):\n",
    "            offset = random.randint(0, n_input+1)\n",
    "        \n",
    "        # get three symbols from the training data, convert to integers \n",
    "        # for the input vector\n",
    "        symbols_in_keys = [ [dictionary[str(training_data[i])]] for i in range(offset, offset+n_input) ]\n",
    "        symbols_in_keys = np.reshape(np.array(symbols_in_keys), [-1, n_input, 1])\n",
    "        \n",
    "        # training label is a one-hot vector coming from the next symbol after\n",
    "        # the three input symbols in the source text\n",
    "        symbols_out_onehot = np.zeros([vocab_size], dtype=float)\n",
    "        symbols_out_onehot[dictionary[str(training_data[offset+n_input])]] = 1.0\n",
    "        # reshape to fit the feed_dict\n",
    "        symbols_out_onehot = np.reshape(symbols_out_onehot, [1,-1])\n",
    "        \n",
    "        # run session, return accuracy, loss, and prediction\n",
    "        # how do we measure accuracy? loss?\n",
    "        _, acc, loss, onehot_pred = sess.run([optimizer, accuracy, \n",
    "                                    cost, pred], feed_dict={x: symbols_in_keys, y: symbols_out_onehot})\n",
    "        loss_total += loss\n",
    "        acc_total += acc\n",
    "        if (step+1) % display_step == 0:\n",
    "            print(\"Iter= \" + str(step+1) + \", Average Loss= \" + \\\n",
    "                  \"{:.6f}\".format(loss_total/display_step) + \", Average Accuracy= \" + \\\n",
    "                  \"{:.2f}%\".format(100*acc_total/display_step))\n",
    "            acc_total = 0\n",
    "            loss_total = 0\n",
    "            symbols_in = [training_data[i] for i in range(offset, offset + n_input)]\n",
    "            symbols_out = training_data[offset + n_input]\n",
    "            symbols_out_pred = reverse_dictionary[int(tf.argmax(onehot_pred, 1).eval())]\n",
    "            print(\"%s - [%s] vs [%s]\" % (symbols_in,symbols_out,symbols_out_pred))\n",
    "        step += 1\n",
    "        offset += (n_input+1)\n",
    "\n",
    "    "
   ]
  },
  {
   "cell_type": "code",
   "execution_count": null,
   "metadata": {
    "collapsed": true
   },
   "outputs": [],
   "source": []
  }
 ],
 "metadata": {
  "anaconda-cloud": {},
  "kernelspec": {
   "display_name": "Python 3",
   "language": "python",
   "name": "python3"
  },
  "language_info": {
   "codemirror_mode": {
    "name": "ipython",
    "version": 3
   },
   "file_extension": ".py",
   "mimetype": "text/x-python",
   "name": "python",
   "nbconvert_exporter": "python",
   "pygments_lexer": "ipython3",
   "version": "3.5.1"
  }
 },
 "nbformat": 4,
 "nbformat_minor": 1
}
